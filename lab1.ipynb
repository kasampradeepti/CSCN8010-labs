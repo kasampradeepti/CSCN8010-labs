{
 "cells": [
  {
   "cell_type": "markdown",
   "metadata": {},
   "source": [
    "#LAB1\n",
    "## Introduction\n",
    "\n",
    "**correct**\n",
    "\n",
    "*hola!! chao!!*\n",
    "\n",
    "[clickme](https://www.google.com)\n",
    "\n",
    "![Logo](./IMG_1253.jpeg)\n",
    "\n",
    "list of items\n",
    "* apple\n",
    "* orange\n",
    "* banana\n",
    "\n",
    "this is a table \n",
    "\n",
    "| h1 | h2 |\n",
    "|---|-----|\n",
    "| t1 | t2 |\n"
   ]
  },
  {
   "cell_type": "code",
   "execution_count": null,
   "metadata": {
    "vscode": {
     "languageId": "plaintext"
    }
   },
   "outputs": [],
   "source": []
  }
 ],
 "metadata": {
  "language_info": {
   "name": "python"
  }
 },
 "nbformat": 4,
 "nbformat_minor": 2
}
